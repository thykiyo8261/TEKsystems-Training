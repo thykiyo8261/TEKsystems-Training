{
 "cells": [
  {
   "cell_type": "markdown",
   "id": "76fc6aa3-6501-467f-9685-79bbe33d8eff",
   "metadata": {},
   "source": [
    "### 1. Create this dictionary:\n",
    "**{0: 0, 1: 1, 2: 8, 3: 27, 4: 64}\n",
    " using a dictionary comprehension.**"
   ]
  },
  {
   "cell_type": "code",
   "execution_count": 2,
   "id": "01bda99f",
   "metadata": {},
   "outputs": [
    {
     "data": {
      "text/plain": [
       "{0: 0, 1: 1, 2: 8, 3: 27, 4: 64}"
      ]
     },
     "execution_count": 2,
     "metadata": {},
     "output_type": "execute_result"
    }
   ],
   "source": [
    "dict = {i:i*i*i for i in range(5)}\n",
    "dict"
   ]
  },
  {
   "cell_type": "markdown",
   "id": "4d499c8b-9a50-40c8-9e76-d5cc6bca4635",
   "metadata": {},
   "source": [
    "### 2. if the length of a word is even print \"even!\""
   ]
  },
  {
   "cell_type": "code",
   "execution_count": 5,
   "id": "2450d4df-7361-408e-a864-06143b116a5f",
   "metadata": {},
   "outputs": [
    {
     "name": "stdout",
     "output_type": "stream",
     "text": [
      "word - even!\n",
      "in - even!\n",
      "this - even!\n",
      "sentence - even!\n",
      "that - even!\n",
      "an - even!\n",
      "even - even!\n",
      "number - even!\n",
      "of - even!\n"
     ]
    }
   ],
   "source": [
    "st = 'Print every word in this sentence that has an even number of letters'\n",
    "words = st.split()\n",
    "for word in words:\n",
    "    if not len(word)%2:\n",
    "        print(word, '- even!')"
   ]
  },
  {
   "cell_type": "markdown",
   "id": "bc19e049-18b9-48c3-b321-40b108c4f95e",
   "metadata": {},
   "source": [
    "### 3. Generate Password: 17 characters , minimum 1 Uppercase, 1 lowercase, 1 digits and 2 minimun special characters"
   ]
  },
  {
   "cell_type": "code",
   "execution_count": 12,
   "id": "519e2714",
   "metadata": {},
   "outputs": [
    {
     "name": "stdout",
     "output_type": "stream",
     "text": [
      "o4u2'Z8KxAD($('67\n"
     ]
    }
   ],
   "source": [
    "import random\n",
    "lower='abcdefghijklmnopqrstuvwxyz'\n",
    "upper=lower.upper()\n",
    "digits='1234567890'\n",
    "spec = list(string.punctuation)\n",
    "\n",
    "while(1):\n",
    "    pw=''\n",
    "    lc=uc=dc=sc=0\n",
    "    while(len(pw)!=17):\n",
    "        r = random.randrange(0,4)\n",
    "        if r==0:\n",
    "            pw+=lower[random.randrange(0,27)]\n",
    "            lc+=1\n",
    "        elif r==1:\n",
    "            pw+=upper[random.randrange(0,27)]\n",
    "            uc+=1\n",
    "        elif r==2:\n",
    "            pw+=digits[random.randrange(0,10)]\n",
    "            dc+=1\n",
    "        else:\n",
    "            pw+=spec[random.randrange(0,10)]\n",
    "            sc+=1\n",
    "    if not(lc<1 or uc<1 or dc<1 or sc<2):\n",
    "        break\n",
    "print(pw)"
   ]
  },
  {
   "cell_type": "markdown",
   "id": "48cca1de-e507-4920-9caf-0b58e1d27f42",
   "metadata": {},
   "source": [
    "### 4. you are given a list which is [6, 15, 5, 3, 5, 14, 3, 202, 34, 235, 555, 6]. You have to sort it such that the seventh element is greatest of all, second element is greater than last element and second last element is not greater than sum of 8 and sixth element"
   ]
  },
  {
   "cell_type": "code",
   "execution_count": 39,
   "id": "b3e93211",
   "metadata": {},
   "outputs": [
    {
     "name": "stdout",
     "output_type": "stream",
     "text": [
      "[6, 15, 5, 5, 5, 14, 555, 202, 34, 235, 3, 6]\n"
     ]
    }
   ],
   "source": [
    "li = [6, 15, 5, 3, 5, 14, 3, 202, 34, 235, 555, 6]\n",
    "maxidx = li.index(max(li))\n",
    "li[midx], li[6] = li[6], li[midx]\n",
    "\n",
    "if li[1]<li[-1]:\n",
    "    li[1], li[-1] = li[-1], li[1]\n",
    "\n",
    "if li[-2]<=(li[5] + li[7]):\n",
    "    minidx=li.index(min(li))\n",
    "    li[minidx], li[-2] = li[2], li[minidx]\n",
    "\n",
    "print(li)"
   ]
  },
  {
   "cell_type": "markdown",
   "id": "4cc065eb-e5c5-40ff-9d82-2b6f8f2f43a6",
   "metadata": {},
   "source": [
    "### 5. Write a program that prints the integers from 1 to 100. But for multiples of three print \"Fizz\" instead of the number, and for the multiples of five print \"Buzz\". For numbers which are multiples of both three and five print \"FizzBuzz\"."
   ]
  },
  {
   "cell_type": "code",
   "execution_count": 13,
   "id": "d5c04959",
   "metadata": {},
   "outputs": [
    {
     "name": "stdout",
     "output_type": "stream",
     "text": [
      "1\n",
      "2\n",
      "Fizz\n",
      "4\n",
      "Buzz\n",
      "Fizz\n",
      "7\n",
      "8\n",
      "Fizz\n",
      "Buzz\n",
      "11\n",
      "Fizz\n",
      "13\n",
      "14\n",
      "FizzBuzz\n",
      "16\n",
      "17\n",
      "Fizz\n",
      "19\n",
      "Buzz\n",
      "Fizz\n",
      "22\n",
      "23\n",
      "Fizz\n",
      "Buzz\n",
      "26\n",
      "Fizz\n",
      "28\n",
      "29\n",
      "FizzBuzz\n",
      "31\n",
      "32\n",
      "Fizz\n",
      "34\n",
      "Buzz\n",
      "Fizz\n",
      "37\n",
      "38\n",
      "Fizz\n",
      "Buzz\n",
      "41\n",
      "Fizz\n",
      "43\n",
      "44\n",
      "FizzBuzz\n",
      "46\n",
      "47\n",
      "Fizz\n",
      "49\n",
      "Buzz\n",
      "Fizz\n",
      "52\n",
      "53\n",
      "Fizz\n",
      "Buzz\n",
      "56\n",
      "Fizz\n",
      "58\n",
      "59\n",
      "FizzBuzz\n",
      "61\n",
      "62\n",
      "Fizz\n",
      "64\n",
      "Buzz\n",
      "Fizz\n",
      "67\n",
      "68\n",
      "Fizz\n",
      "Buzz\n",
      "71\n",
      "Fizz\n",
      "73\n",
      "74\n",
      "FizzBuzz\n",
      "76\n",
      "77\n",
      "Fizz\n",
      "79\n",
      "Buzz\n",
      "Fizz\n",
      "82\n",
      "83\n",
      "Fizz\n",
      "Buzz\n",
      "86\n",
      "Fizz\n",
      "88\n",
      "89\n",
      "FizzBuzz\n",
      "91\n",
      "92\n",
      "Fizz\n",
      "94\n",
      "Buzz\n",
      "Fizz\n",
      "97\n",
      "98\n",
      "Fizz\n",
      "Buzz\n"
     ]
    }
   ],
   "source": [
    "for i in range(1,101):\n",
    "    if i%3==0 and i%5==0:\n",
    "        print('FizzBuzz')\n",
    "    elif i%3==0:\n",
    "        print('Fizz')\n",
    "    elif i%5==0:\n",
    "        print('Buzz')\n",
    "    else:\n",
    "        print(i)"
   ]
  },
  {
   "cell_type": "markdown",
   "id": "42943a70-2349-4290-ac41-a5c1a5cc2ff0",
   "metadata": {},
   "source": [
    "### 6. Write a program that accepts a sentence and calculate the number of letters and digits. Suppose the following input is supplied to the program."
   ]
  },
  {
   "cell_type": "code",
   "execution_count": 14,
   "id": "b50e68cc",
   "metadata": {},
   "outputs": [
    {
     "name": "stdout",
     "output_type": "stream",
     "text": [
      "asdad342\n",
      "letters : 5\n",
      "digits : 3\n"
     ]
    }
   ],
   "source": [
    "lower='abcdefghijklmnopqrstuvwxyz'\n",
    "upper=lower.upper()\n",
    "digits='1234567890'\n",
    "di = {'letters':0, 'digits':0}\n",
    "inp = input()\n",
    "for ch in inp:\n",
    "    if ch in lower or ch in upper:\n",
    "        di['letters']+=1\n",
    "    elif ch in digits:\n",
    "        di['digits']+=1\n",
    "\n",
    "for (key,value) in di.items():\n",
    "    print(key,':',value)"
   ]
  },
  {
   "cell_type": "markdown",
   "id": "ee9e1ad1-842c-4fff-9ee2-55e24eb24701",
   "metadata": {},
   "source": [
    "### 7. Exercise: Write a program which takes 2 digits, X,Y as input and generates a 2-dimensional array. The element value in the i-th row and j-th column of the array should be i*j\n",
    "\n",
    "[[0, 0, 0, 0, 0],\n",
    " [0, 1, 2, 3, 4],\n",
    " [0, 2, 4, 6, 8]\n",
    " ..............]]"
   ]
  },
  {
   "cell_type": "code",
   "execution_count": 19,
   "id": "797f9c86",
   "metadata": {},
   "outputs": [
    {
     "name": "stdout",
     "output_type": "stream",
     "text": [
      "Enter no. of rows: 3\n",
      "Enter no. of columns: 5\n"
     ]
    },
    {
     "data": {
      "text/plain": [
       "[[0, 0, 0, 0, 0], [0, 1, 2, 3, 4], [0, 2, 4, 6, 8]]"
      ]
     },
     "execution_count": 19,
     "metadata": {},
     "output_type": "execute_result"
    }
   ],
   "source": [
    "X = int(input('Enter no. of rows: '))\n",
    "Y = int(input('Enter no. of columns: '))\n",
    "arr = []\n",
    "for i in range(X):\n",
    "    li=[]\n",
    "    for j in range(Y):\n",
    "        li.append(i*j)\n",
    "    arr.append(li)\n",
    "arr"
   ]
  },
  {
   "cell_type": "markdown",
   "id": "f1efcf4a-bc10-4189-8228-3270b0cf1483",
   "metadata": {},
   "source": [
    "## 8. For this challenge,\n",
    "Create a bank account class that has two attributes:\n",
    "\n",
    "owner balance and two methods:\n",
    "\n",
    "deposit withdraw As an added requirement, withdrawals may not exceed the available balance.\n",
    "\n",
    "Instantiate your class, make several deposits and withdrawals, and test to make sure the account can't be overdrawn."
   ]
  },
  {
   "cell_type": "code",
   "execution_count": 28,
   "id": "49e00803",
   "metadata": {},
   "outputs": [],
   "source": [
    "class Bank:\n",
    "    def __init__(self, owner):\n",
    "        self.owner=owner\n",
    "        self.balance=0\n",
    "        print('Account for', self.owner, 'created successfully!')\n",
    "    \n",
    "    def deposit(self, amt):\n",
    "        self.balance+=amt\n",
    "        print('\\nAmount Deposited\\nCurrent Balance: ',self.balance)\n",
    "    \n",
    "    def withdraw(self, amt):\n",
    "        if amt<=self.balance:\n",
    "            self.balance-=amt\n",
    "            print('\\nAmount Withdrawn\\nCurrent Balance: ',self.balance)\n",
    "        else:\n",
    "            print('\\nCannot withdraw',amt,'Insufficient Balance\\nCurrent Balance: ',self.balance)"
   ]
  },
  {
   "cell_type": "code",
   "execution_count": 29,
   "id": "c97a74b6",
   "metadata": {},
   "outputs": [
    {
     "name": "stdout",
     "output_type": "stream",
     "text": [
      "Account for Lorem Ipsum created successfully!\n",
      "\n",
      "Amount Deposited\n",
      "Current Balance:  500\n",
      "\n",
      "Amount Deposited\n",
      "Current Balance:  1000\n",
      "\n",
      "Amount Withdrawn\n",
      "Current Balance:  500\n",
      "\n",
      "Amount Deposited\n",
      "Current Balance:  700\n",
      "\n",
      "Cannot withdraw 1000 Insufficient Balance\n",
      "Current Balance:  700\n"
     ]
    }
   ],
   "source": [
    "obj = Bank('Lorem Ipsum')\n",
    "obj.deposit(500)\n",
    "obj.deposit(500)\n",
    "obj.withdraw(500)\n",
    "obj.deposit(200)\n",
    "obj.withdraw(1000)"
   ]
  }
 ],
 "metadata": {
  "kernelspec": {
   "display_name": "Python 3 (ipykernel)",
   "language": "python",
   "name": "python3"
  },
  "language_info": {
   "codemirror_mode": {
    "name": "ipython",
    "version": 3
   },
   "file_extension": ".py",
   "mimetype": "text/x-python",
   "name": "python",
   "nbconvert_exporter": "python",
   "pygments_lexer": "ipython3",
   "version": "3.9.13"
  }
 },
 "nbformat": 4,
 "nbformat_minor": 5
}
