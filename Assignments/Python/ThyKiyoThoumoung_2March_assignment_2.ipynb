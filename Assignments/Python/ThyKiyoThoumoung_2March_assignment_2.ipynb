{
 "cells": [
  {
   "cell_type": "markdown",
   "id": "61971a22",
   "metadata": {},
   "source": [
    "1.\tCreate a python program to find duplicate files by content. User will input path and it will scan all directories, sub-directories to find all duplicates files.\n",
    "Delete the found duplicate file.\n",
    "[Hint: use hashlib]\n",
    "2.\tGenerate random Password with exact length = 6, with minimum 1 uppercase, 2 lowercase, 2 digits, and remaining special characters.\n",
    "Using these packages [random, strings]\n",
    "\n",
    "3.\tCreate 2D array and update the same 2D array provided that every prime number position should be replaced by cube of the positioned number.\n",
    "\n",
    "4.\tPython program to get the sum of every cubed value and its previous integer. \n",
    "\n",
    "5.\tGiven two arrays, find their intersection. Examples:\n",
    "\n",
    "Input:  arr1[] = [1, 3, 4, 5, 7]\n",
    "             arr2[] = [2, 3, 5, 6]\n",
    "\n",
    "6.\tCreate a 7 x 7  2D array having only multiples of 7. And return the last element of the same.\n",
    "\n",
    "7.\tChecker Board Patten using Numpy:\n",
    "[   1   0   1   0   1   0   1\n",
    "    0   1   0   1   0   1   0\n",
    "    1   0   1   0   1   0   1\n",
    "    0   1   0   1   0   1   0\n",
    "    1   0   1   0   1   0   1  ]\n",
    "\n",
    "8.\tCreate a given Matrix:\n",
    "[  A,     B,     C,       D\n",
    "   E,      F,     G,       H\n",
    "    I,      a,      K,       L\n",
    "   M,    N,     o,       P\n",
    "   Q,     R,      S,       T\n",
    "   U,     0,     W,      O ]\n",
    "\n",
    "Replace all the vowels by np.nan\n",
    "A, E, I, O U  -- >  np.nan\n",
    "Return the count of the missing values\n"
   ]
  },
  {
   "cell_type": "markdown",
   "id": "c7a86162",
   "metadata": {},
   "source": [
    "### Problem 1"
   ]
  },
  {
   "cell_type": "code",
   "execution_count": 8,
   "id": "f4cdc355",
   "metadata": {
    "scrolled": true
   },
   "outputs": [
    {
     "name": "stdout",
     "output_type": "stream",
     "text": [
      "Removed duplicate: D:\\New1\\duplis\\test.txt\n",
      "Removed duplicate: D:\\New1\\duplis\\test2.txt\n"
     ]
    }
   ],
   "source": [
    "import os\n",
    "import hashlib\n",
    "path = 'D:\\\\New1'\n",
    "hashes = []\n",
    "for (dirpath, dirs, files) in os.walk(path):\n",
    "    for file in files:\n",
    "        try:\n",
    "            filepath = os.path.join(dirpath, file)\n",
    "            file = open(filepath, 'r')\n",
    "            content = file.read()\n",
    "            file.close()\n",
    "            message = hashlib.sha256(content.encode())\n",
    "            h = message.hexdigest()\n",
    "            if h not in hashes:\n",
    "                hashes.append(h)\n",
    "            else:\n",
    "                os.remove(filepath)\n",
    "                print('Removed duplicate:', filepath)\n",
    "        except Exception as e:\n",
    "            print(e)"
   ]
  },
  {
   "cell_type": "markdown",
   "id": "ea9b3d5d",
   "metadata": {},
   "source": [
    "###  Problem 2"
   ]
  },
  {
   "cell_type": "code",
   "execution_count": 23,
   "id": "99081bfa",
   "metadata": {},
   "outputs": [
    {
     "data": {
      "text/plain": [
       "'5W@3fh'"
      ]
     },
     "execution_count": 23,
     "metadata": {},
     "output_type": "execute_result"
    }
   ],
   "source": [
    "import random\n",
    "import string\n",
    "pwlen = 6\n",
    "lower = random.sample('abcdefghijklmnopqrstuvwxyz',2)\n",
    "upper = random.sample('ABCDEFGHIJKLMNOPQRSTUVWXYZ',1)\n",
    "digits = random.sample('1234567890',2)\n",
    "spec = random.sample(list(string.punctuation), pwlen-2-1-2)\n",
    "pw = random.sample(lower+upper+digits+spec, 6)\n",
    "pw=''.join(pw)\n",
    "pw"
   ]
  },
  {
   "cell_type": "markdown",
   "id": "50c28cb6",
   "metadata": {},
   "source": [
    "### Problem 3"
   ]
  },
  {
   "cell_type": "code",
   "execution_count": 49,
   "id": "5d971881",
   "metadata": {},
   "outputs": [
    {
     "data": {
      "text/plain": [
       "array([[   0,    1,    8,   27],\n",
       "       [   4,  125,    6,  343],\n",
       "       [   8,    9,   10, 1331]])"
      ]
     },
     "execution_count": 49,
     "metadata": {},
     "output_type": "execute_result"
    }
   ],
   "source": [
    "import numpy as np\n",
    "arr = np.array(range(12)).reshape(3,4)\n",
    "idx=0\n",
    "\n",
    "for i in range(arr.shape[0]):\n",
    "    for j in range(arr.shape[1]):\n",
    "        flag=0\n",
    "        for k in range(1,(idx//2)+1):\n",
    "            if idx%k==0:\n",
    "                flag+=1\n",
    "        if flag==1:\n",
    "            arr[i, j]=arr[i,j]**3\n",
    "        idx+=1\n",
    "arr"
   ]
  },
  {
   "cell_type": "markdown",
   "id": "bacda050",
   "metadata": {},
   "source": [
    "### Problem 4"
   ]
  },
  {
   "cell_type": "code",
   "execution_count": 53,
   "id": "20a11093",
   "metadata": {},
   "outputs": [
    {
     "data": {
      "text/plain": [
       "array([[   0,    1,    9,   36],\n",
       "       [   4,  129,    6,  349],\n",
       "       [   8,    9,   10, 1341]])"
      ]
     },
     "execution_count": 53,
     "metadata": {},
     "output_type": "execute_result"
    }
   ],
   "source": [
    "import numpy as np\n",
    "arr = np.array(range(12)).reshape(3,4)\n",
    "idx=0\n",
    "\n",
    "for i in range(arr.shape[0]):\n",
    "    for j in range(arr.shape[1]):\n",
    "        flag=0\n",
    "        for k in range(1,(idx//2)+1):\n",
    "            if idx%k==0:\n",
    "                flag+=1\n",
    "        if flag==1:\n",
    "            if j!=0:\n",
    "                arr[i, j]=arr[i,j]**3+arr[i,j-1]\n",
    "            else:\n",
    "                arr[i, j]=arr[i,j]**3+arr[i-1,-1]\n",
    "        idx+=1\n",
    "arr"
   ]
  },
  {
   "cell_type": "markdown",
   "id": "6adea302",
   "metadata": {},
   "source": [
    "###  Problem 5"
   ]
  },
  {
   "cell_type": "code",
   "execution_count": 34,
   "id": "8bc6d91f",
   "metadata": {},
   "outputs": [
    {
     "data": {
      "text/plain": [
       "{3, 4, 5}"
      ]
     },
     "execution_count": 34,
     "metadata": {},
     "output_type": "execute_result"
    }
   ],
   "source": [
    "arr1 = np.array([1,2,3,4,5])\n",
    "arr2 = np.array([3,4,5,6,7])\n",
    "set(arr1).intersection(arr2)"
   ]
  },
  {
   "cell_type": "markdown",
   "id": "2667883d",
   "metadata": {},
   "source": [
    "### Problem 6"
   ]
  },
  {
   "cell_type": "code",
   "execution_count": 36,
   "id": "2f020222",
   "metadata": {},
   "outputs": [
    {
     "data": {
      "text/plain": [
       "343"
      ]
     },
     "execution_count": 36,
     "metadata": {},
     "output_type": "execute_result"
    }
   ],
   "source": [
    "li = [7*i for i in range(1,(7*7)+1)]\n",
    "arr7 = np.array(li).reshape(7,7)\n",
    "arr7[-1][-1]"
   ]
  },
  {
   "cell_type": "markdown",
   "id": "719fe782",
   "metadata": {},
   "source": [
    "### Problem 7"
   ]
  },
  {
   "cell_type": "code",
   "execution_count": 54,
   "id": "82f28ca1",
   "metadata": {},
   "outputs": [
    {
     "data": {
      "text/plain": [
       "array([[1., 0., 1., 0., 1.],\n",
       "       [0., 1., 0., 1., 0.],\n",
       "       [1., 0., 1., 0., 1.],\n",
       "       [0., 1., 0., 1., 0.],\n",
       "       [1., 0., 1., 0., 1.]])"
      ]
     },
     "execution_count": 54,
     "metadata": {},
     "output_type": "execute_result"
    }
   ],
   "source": [
    "shape = (5,5)\n",
    "mat = np.zeros(shape)\n",
    "mat[::2, ::2] = 1\n",
    "mat[1::2, 1::2] = 1\n",
    "mat"
   ]
  },
  {
   "cell_type": "markdown",
   "id": "70b8677b",
   "metadata": {},
   "source": [
    "### Problem 8"
   ]
  },
  {
   "cell_type": "code",
   "execution_count": 51,
   "id": "540c721b",
   "metadata": {},
   "outputs": [
    {
     "name": "stdout",
     "output_type": "stream",
     "text": [
      "Vowel count: 7\n"
     ]
    },
    {
     "data": {
      "text/plain": [
       "array(['nan', 'B', 'C', 'D', 'nan', 'F', 'G', 'H', 'nan', 'nan', 'K', 'L',\n",
       "       'M', 'N', 'nan', 'P', 'Q', 'R', 'S', 'T', 'nan', '0', 'W', 'nan'],\n",
       "      dtype='<U32')"
      ]
     },
     "execution_count": 51,
     "metadata": {},
     "output_type": "execute_result"
    }
   ],
   "source": [
    "li = ['A','B','C','D','E','F','G','H','I','a','K','L','M','N','o','P','Q','R','S','T','U','0','W','O']\n",
    "\n",
    "ct=0\n",
    "for i in range(len(li)):\n",
    "    if li[i].lower() in 'aeiou':\n",
    "        li[i] = np.nan\n",
    "        ct+=1\n",
    "print('Vowel count:',ct)\n",
    "mat = np.array(li)\n",
    "mat"
   ]
  }
 ],
 "metadata": {
  "kernelspec": {
   "display_name": "Python 3 (ipykernel)",
   "language": "python",
   "name": "python3"
  },
  "language_info": {
   "codemirror_mode": {
    "name": "ipython",
    "version": 3
   },
   "file_extension": ".py",
   "mimetype": "text/x-python",
   "name": "python",
   "nbconvert_exporter": "python",
   "pygments_lexer": "ipython3",
   "version": "3.9.13"
  }
 },
 "nbformat": 4,
 "nbformat_minor": 5
}
